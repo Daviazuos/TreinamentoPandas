{
 "cells": [
  {
   "cell_type": "markdown",
   "metadata": {},
   "source": [
    "## Treinamento Pandas - Parte 1"
   ]
  },
  {
   "cell_type": "markdown",
   "metadata": {},
   "source": [
    "### Jupyter Atalhos Básicos\n",
    "Sem a célula selecionada (fora, azulzinho):\n",
    "* **Teclas direcionais**: Navegam pelas células\n",
    "* **Enter**: Seleciona (entra).\n",
    "* **A**: Adiciona uma nova abaixo.\n",
    "* **X**: Apaga.\n",
    "* **M**: Entra em modo Markdown.\n",
    "* **C**: Entra em moto Code (só no lab).\n",
    "\n",
    "\n",
    "Com a célula selecionada (dentro, verdinho):\n",
    "* **Shift + Enter** roda a célula selecionada e vai pra próxima.\n",
    "* **Ctrl + Enter** roda a célula selecionada.\n",
    "* **Alt + Enter** roda a célula selecionada, insere uma nova abaixo.\n",
    "* **Ctrl + S** Salva"
   ]
  },
  {
   "cell_type": "markdown",
   "metadata": {},
   "source": [
    "### Numpy Basics\n",
    "#### Copiado discaradamente de Prof. Douglas Matos de Souza, que adaptou de: Prof. Henry Cagnini"
   ]
  },
  {
   "cell_type": "code",
   "execution_count": null,
   "metadata": {},
   "outputs": [],
   "source": [
    "from IPython.display import Image"
   ]
  },
  {
   "cell_type": "markdown",
   "metadata": {},
   "source": [
    "### Introdução\n",
    "\n",
    "Nessa primeira parte vamos falar brevemente sobre arrays numpy.\n",
    "Longe de ser material suficiente sobre o assunto, nossa intenção aqui é apenas reforçar o fato de que o Pandas foi construído em cima dessa biblioteca e que dependendo da necessidades temos que descer um nível (não é o caso para maioria das aplicações, mas é importante saber).\n",
    "\n",
    "* NumPy é uma biblioteca para cálculo vetorial e matricial disponibilizada em Python\n",
    "* Várias outras bibliotecas utilizam NumPy como base para seus cálculos\n",
    "* Utilizar NumPy ao invés das estruturas básicas de Python (e.g. listas) apresenta melhorias de desempenho"
   ]
  },
  {
   "cell_type": "markdown",
   "metadata": {},
   "source": [
    "### Arrays Numpy"
   ]
  },
  {
   "cell_type": "markdown",
   "metadata": {},
   "source": [
    "São estruturas homogêneas\n",
    "\n",
    "Possui um tipo, dentre eles:\n",
    "* np.int8\n",
    "* np.int16\n",
    "* np.int32\n",
    "* np.int64\n",
    "* np.uint8\n",
    "* np.uint16\n",
    "* np.uint32\n",
    "* np.uint64\n",
    "* np.float32\n",
    "* np.float64\n",
    "* np.complex64\n",
    "* np.complext128\n",
    "* np.unicode (Utilizado para string. Possui algum tamanho específico, e.g. <U10)\n",
    "\n",
    "Lista completa em: https://numpy.org/devdocs/user/basics.types.html"
   ]
  },
  {
   "cell_type": "markdown",
   "metadata": {},
   "source": [
    "Possuem os seguintes atributos:\n",
    "* *ndarray.ndim*: Número de dimensões do array (e.g. 2 se for uma matriz)\n",
    "* *ndarray.shape*: Tupla que representa o formato do array (e.g. (3,3))\n",
    "* *ndarray.size*: Número total de elementos do array, é equivalente a np.prod(ndarray.shape)\n",
    "* **ndarray.dtype**: Tipo de dado do array (e.g. np.float32)\n",
    "* *ndarray.itemsize*: Tamanho em bytes que cada elemento do array ocupa (e.g. 8 para um np.float64)"
   ]
  },
  {
   "cell_type": "markdown",
   "metadata": {},
   "source": [
    "### Construção de arrays\n",
    "* *np.array(...)*\n",
    "* Constrói um array com base nos dados que são passados a estrutura\n",
    "* Dados podem ser provenientes de outros contêineres (e.g. lista, tupla)"
   ]
  },
  {
   "cell_type": "code",
   "execution_count": null,
   "metadata": {},
   "outputs": [],
   "source": [
    "import numpy as np\n",
    "\n",
    "tupla = ('a', 'b', 'c')\n",
    "lista = [1, 2, 3]\n",
    "\n",
    "a = np.array(lista)\n",
    "b = np.array(tupla)\n"
   ]
  },
  {
   "cell_type": "code",
   "execution_count": null,
   "metadata": {},
   "outputs": [],
   "source": [
    "a"
   ]
  },
  {
   "cell_type": "code",
   "execution_count": null,
   "metadata": {},
   "outputs": [],
   "source": [
    "b"
   ]
  },
  {
   "cell_type": "code",
   "execution_count": null,
   "metadata": {},
   "outputs": [],
   "source": [
    "a.shape"
   ]
  },
  {
   "cell_type": "code",
   "execution_count": null,
   "metadata": {},
   "outputs": [],
   "source": [
    "a.size"
   ]
  },
  {
   "cell_type": "code",
   "execution_count": null,
   "metadata": {},
   "outputs": [],
   "source": [
    "a.dtype"
   ]
  },
  {
   "cell_type": "markdown",
   "metadata": {},
   "source": [
    "Mais dimensões"
   ]
  },
  {
   "cell_type": "code",
   "execution_count": null,
   "metadata": {},
   "outputs": [],
   "source": [
    "c = np.zeros((10, 10))"
   ]
  },
  {
   "cell_type": "code",
   "execution_count": null,
   "metadata": {},
   "outputs": [],
   "source": [
    "c"
   ]
  },
  {
   "cell_type": "code",
   "execution_count": null,
   "metadata": {},
   "outputs": [],
   "source": [
    "'shape: {}, size: {}, dtype: {}, '.format(c.shape, c.size, c.dtype)"
   ]
  },
  {
   "cell_type": "markdown",
   "metadata": {},
   "source": [
    "#### Operações Básicas\n",
    "* Divisão, multiplicação, soma, subtração\n",
    "* Vale a pena dar uma olhada na documentação, por limitações do escopo desse treinamento não entraremos nessa parte.\n",
    "\n",
    "https://docs.scipy.org/doc/numpy/user/quickstart.html"
   ]
  },
  {
   "cell_type": "markdown",
   "metadata": {},
   "source": [
    "#### Operações de redução e binárias\n",
    "* Essas são mais imporantes para o nosso escopo, segue:"
   ]
  },
  {
   "cell_type": "code",
   "execution_count": null,
   "metadata": {},
   "outputs": [],
   "source": [
    "a = np.arange(0, 9).reshape(3, 3)\n",
    "print('Conteúdo:\\n{}, shape: {}, Tipo: {}'.format(a, a.shape, a.dtype))\n",
    "print('Soma total dos elementos:\\n{}'.format(np.sum(a)))\n",
    "print('Média dos elementos:\\n{}'.format(np.mean(a)))\n",
    "print('Soma das linhas:\\n{}'.format(np.sum(a, axis=0)))\n",
    "print('Média das linhas:\\n{}'.format(np.mean(a, axis=0)))\n",
    "print('Soma das colunas:\\n{}'.format(np.sum(a, axis=1)))\n",
    "print('Média das colunas:\\n{}'.format(np.mean(a, axis=1)))"
   ]
  },
  {
   "cell_type": "code",
   "execution_count": null,
   "metadata": {},
   "outputs": [],
   "source": [
    "a = np.array([0, 0, 1, 1], dtype=np.bool)\n",
    "b = np.array([0, 1, 0, 1], dtype=np.bool)"
   ]
  },
  {
   "cell_type": "code",
   "execution_count": null,
   "metadata": {},
   "outputs": [],
   "source": [
    "print(a & b)"
   ]
  },
  {
   "cell_type": "code",
   "execution_count": null,
   "metadata": {},
   "outputs": [],
   "source": [
    "print(a | b)"
   ]
  },
  {
   "cell_type": "code",
   "execution_count": null,
   "metadata": {},
   "outputs": [],
   "source": [
    "print(np.logical_not(a))"
   ]
  },
  {
   "cell_type": "markdown",
   "metadata": {},
   "source": [
    "### Vamos ao que interessa: Slicing e Fancy Indexing"
   ]
  },
  {
   "cell_type": "code",
   "execution_count": null,
   "metadata": {},
   "outputs": [],
   "source": [
    "Image(url='https://media.giphy.com/media/81Ja1qE3lfmG4/giphy.gif')"
   ]
  },
  {
   "cell_type": "markdown",
   "metadata": {},
   "source": [
    "#### Slicing"
   ]
  },
  {
   "cell_type": "markdown",
   "metadata": {},
   "source": [
    "* Assim como em listas de Python, numpy arrays também podem ser fatiados (slicing)\n",
    "    * Slicing é a técnica de “fatiar” um contêiner que suporta indexação linear\n",
    "    * O fatiamento se dá adicionando um par de colchetes ao fim da variável\n",
    "    * Possui 3 parâmetros: início (incluso), fim (excluso) e passo"
   ]
  },
  {
   "cell_type": "code",
   "execution_count": null,
   "metadata": {},
   "outputs": [],
   "source": [
    "Image(url='https://i1.faceprep.in/Companies-1/string-slicing-in-python.png')"
   ]
  },
  {
   "cell_type": "code",
   "execution_count": null,
   "metadata": {},
   "outputs": [],
   "source": [
    "nums = np.arange(5)\n",
    "print('array completo:\\t\\t\\t', nums)        \n",
    "print('do início ao fim:\\t\\t', nums[:])\n",
    "print('do 2o (incluso) até o fim:\\t', nums[2:])\n",
    "print('do início ao 2o (excluso):\\t', nums[:2])\n",
    "print('do 2o (incluso) ao 4o (excluso):', nums[2:4])\n",
    "print('do início ao último (excluso)\\t', nums[:-1])\n",
    "nums[2:4] = [8, 9]  # atribuição\n",
    "print('após atribuição:\\t\\t', nums)"
   ]
  },
  {
   "cell_type": "code",
   "execution_count": null,
   "metadata": {},
   "outputs": [],
   "source": [
    "a = np.random.uniform(size=(3,5))\n",
    "print('Conteúdo: {},\\nshape: {},\\nTipo: {}\\n\\n'.format(a, a.shape, a.dtype))\n",
    "print('Selecionando a primeira linha:', a[0, :])\n",
    "print('Selecionando a primeira coluna:', a[:, 0])\n",
    "print('Selecionando a última linha:', a[-1, :])\n",
    "print('Selecionando as colunas 1 e 2:\\n', a[:, 1:3])"
   ]
  },
  {
   "cell_type": "markdown",
   "metadata": {},
   "source": [
    "### Fancy Indexing"
   ]
  },
  {
   "cell_type": "code",
   "execution_count": null,
   "metadata": {},
   "outputs": [],
   "source": [
    "Image(url='https://media.giphy.com/media/12NUbkX6p4xOO4/giphy.gif')"
   ]
  },
  {
   "cell_type": "markdown",
   "metadata": {},
   "source": [
    "Numpy permite a indexação de arrays utilizando outros arrays (que contém indíces!)"
   ]
  },
  {
   "cell_type": "code",
   "execution_count": null,
   "metadata": {},
   "outputs": [],
   "source": [
    "a = np.arange(9).reshape(3, 3)\n",
    "print('Array original\\n', a)\n",
    "\n",
    "print('Selecionando as linhas 0 e 2:\\n', a[[0, 2], :])\n",
    "\n",
    "print('Selecionando as linhas 0 e 2, colunas 0 e 0', a[[0, 2], [0, 0]])"
   ]
  },
  {
   "cell_type": "code",
   "execution_count": null,
   "metadata": {},
   "outputs": [],
   "source": [
    "a = np.arange(9)\n",
    "print('Array original\\n', a)\n",
    "print('Indexando várias vezes o mesmo elemento:\\n', a[[0,0,0, 1, 3, 3]])\n",
    "print('Indexando várias vezes o mesmo elemento:\\n', a[[7,7,7, 0,0, 4, 1]])"
   ]
  },
  {
   "cell_type": "code",
   "execution_count": null,
   "metadata": {},
   "outputs": [],
   "source": [
    "a = np.arange(9).reshape(3, 3)\n",
    "print('Array original\\n', a)\n",
    "\n",
    "print('Selecionando as colunas 0 e 2:\\n', a[:, [0, -1]])\n",
    "\n",
    "print('Selecionando as colunas 0 e 2, linhas 0 e 2', a[[0, -1], [0, 2]])\n",
    "\n",
    "print('Selecionando as colunas 2 e 0, linhas 2 e 0', a[[-1, 0], [2, 0]])"
   ]
  },
  {
   "cell_type": "code",
   "execution_count": null,
   "metadata": {},
   "outputs": [],
   "source": [
    "a = np.arange(25).reshape(5, 5)\n",
    "print('Array original\\n', a)\n",
    "\n",
    "print('Selecionando as linhas 1 a 4 e colunas 0, 2 e 3:\\n', a[1:4, [0, 2, 3]])"
   ]
  },
  {
   "cell_type": "code",
   "execution_count": null,
   "metadata": {},
   "outputs": [],
   "source": [
    "a = np.arange(9).reshape(3, 3)\n",
    "print('Array original\\n', a)\n",
    "\n",
    "print('Selecionando as colunas 0 e 2:\\n', a[:, [0, -1]])\n",
    "\n",
    "a[:, [0, -1]] = [[-1, -1], [-1, -1], [-1, -1]]\n",
    "\n",
    "print('Substituindo o conteúdo das colunas 0 e 2:\\n', a)"
   ]
  },
  {
   "cell_type": "markdown",
   "metadata": {},
   "source": [
    "E se eu quiser selecionar todos os elementos de um array que satisfaçam uma condição? Todos os elementos iguais a zero, por exemplo?\n",
    "\n",
    "**Solução: boolean indexing!**"
   ]
  },
  {
   "cell_type": "markdown",
   "metadata": {},
   "source": [
    "- A indexação por booleans permite indexar um array com uma máscara de valores booleanos.\n",
    "- A Máscara deve ter exatamente o mesmo tamanho da dimensão que está sendo indexada."
   ]
  },
  {
   "cell_type": "code",
   "execution_count": null,
   "metadata": {},
   "outputs": [],
   "source": [
    "a = np.arange(9)\n",
    "print('Conteúdo do array:\\n', a)\n",
    "print('Conteúdo da máscara da condição a < 5:\\n', a < 5)\n",
    "print('Selecionando todos os valores menores que 5:\\n', a[a < 5])"
   ]
  },
  {
   "cell_type": "code",
   "execution_count": null,
   "metadata": {},
   "outputs": [],
   "source": [
    "a = np.arange(9)\n",
    "print('Conteúdo do array:\\n', a)\n",
    "print('Conteúdo da máscara da condição a == 2:\\n', a == 2)\n",
    "print('Selecionando todos os valores iguais a 2:\\n', a[a == 2])"
   ]
  },
  {
   "cell_type": "code",
   "execution_count": null,
   "metadata": {},
   "outputs": [],
   "source": [
    "a = np.arange(9)\n",
    "print('Conteúdo do array:\\n', a)\n",
    "print('Conteúdo da máscara da condição a == 2 ou a == 3:\\n', (a == 2) | (a == 3) )\n",
    "print('Selecionando todos os valores iguais a 2 ou 3:\\n', a[(a == 2) | (a == 3)])"
   ]
  },
  {
   "cell_type": "markdown",
   "metadata": {},
   "source": [
    "#### Where(cond, [if true, if false])"
   ]
  },
  {
   "cell_type": "code",
   "execution_count": null,
   "metadata": {},
   "outputs": [],
   "source": [
    "a = np.arange(9).reshape(3, 3)\n",
    "print('Array original\\n', a)\n",
    "mascara = a > 3\n",
    "print('Conteúdo da máscara:\\n', mascara)\n",
    "print('Conteúdo retornado pelo where:\\n', np.where(mascara, a, a + 10))"
   ]
  },
  {
   "cell_type": "markdown",
   "metadata": {},
   "source": [
    "### EXERCÍCIO!\n",
    "Dado o array 2D abaixo, selecione: valores pares ou valores maiores que 10."
   ]
  },
  {
   "cell_type": "code",
   "execution_count": null,
   "metadata": {},
   "outputs": [],
   "source": [
    "a = np.arange(25).reshape(5, 5)\n",
    "########################\n",
    "# Inicio do seu codigo #\n",
    "########################\n",
    "\n",
    "\n",
    "\n",
    "########################\n",
    "#   Fim do seu codigo  #\n",
    "########################"
   ]
  },
  {
   "cell_type": "markdown",
   "metadata": {},
   "source": [
    "### Arryas Numpy: Performance\n",
    "* Utilizar arrays permite cálculos ainda mais rápidos que funções em **C de Python**\n",
    "* Abaixo realizamos três testes: usando list comprehension, map e lambda, e arrays com funções numpy\n",
    "* Os testes são executados 100 vezes e a média é mostrada"
   ]
  },
  {
   "cell_type": "code",
   "execution_count": null,
   "metadata": {},
   "outputs": [],
   "source": [
    "import timeit\n",
    "setup = 'a = range(1000000)'\n",
    "stmt = '[x**2 for x in a]'\n",
    "\n",
    "times = timeit.repeat(setup=setup, stmt=stmt, number=1, repeat=100)\n",
    "print('média de 100 execuções com list comprehension: %r segundos' % np.mean(times))"
   ]
  },
  {
   "cell_type": "code",
   "execution_count": null,
   "metadata": {},
   "outputs": [],
   "source": [
    "setup = 'a = range(1000000); pow = lambda x: x**2'\n",
    "stmt = 'list(map(pow, a))'\n",
    "\n",
    "times = timeit.repeat(setup=setup, stmt=stmt, number=1, repeat=100)\n",
    "print('média de tempos usando map: %r segundos' % np.mean(times))"
   ]
  },
  {
   "cell_type": "code",
   "execution_count": null,
   "metadata": {},
   "outputs": [],
   "source": [
    "setup = 'import numpy as np;a = np.arange(1000000)'\n",
    "stmt = 'a**2'\n",
    "\n",
    "times = timeit.repeat(setup=setup, stmt=stmt, number=1, repeat=100)\n",
    "print('média de tempos usando numpy arrays: %r segundos' % np.mean(times))"
   ]
  },
  {
   "cell_type": "code",
   "execution_count": null,
   "metadata": {},
   "outputs": [],
   "source": [
    "Image(url='https://miro.medium.com/max/2000/1*e7fxK_4DK2QqpGNzoTADAA.png')"
   ]
  },
  {
   "cell_type": "markdown",
   "metadata": {},
   "source": [
    "## Por isso....\n",
    "\n",
    "1. Cuidado com soluções mágicas\n",
    "2. Cada caso é um caso\n",
    "3. A sintaxe importa!!\n",
    "4. Se você tiver dificuldades de performance, e começar a blasfemar coisas do tipo: \"Python é lento\", provavelmente você não está abordando o problema da forma correta, pesquise um pouco :)"
   ]
  },
  {
   "cell_type": "code",
   "execution_count": null,
   "metadata": {},
   "outputs": [],
   "source": [
    "Image(url='https://media.giphy.com/media/2vrGD7BtskWD8HB5BK/giphy.gif')"
   ]
  }
 ],
 "metadata": {
  "kernelspec": {
   "display_name": "Python 3",
   "language": "python",
   "name": "python3"
  },
  "language_info": {
   "codemirror_mode": {
    "name": "ipython",
    "version": 3
   },
   "file_extension": ".py",
   "mimetype": "text/x-python",
   "name": "python",
   "nbconvert_exporter": "python",
   "pygments_lexer": "ipython3",
   "version": "3.7.4"
  }
 },
 "nbformat": 4,
 "nbformat_minor": 4
}
